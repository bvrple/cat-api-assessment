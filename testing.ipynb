{
 "cells": [
  {
   "cell_type": "code",
   "execution_count": 28,
   "metadata": {},
   "outputs": [
    {
     "name": "stdout",
     "output_type": "stream",
     "text": [
      "[{'breeds': [{'weight': {'imperial': '6 - 12', 'metric': '3 - 7'}, 'id': 'beng', 'name': 'Bengal', 'cfa_url': 'http://cfa.org/Breeds/BreedsAB/Bengal.aspx', 'vetstreet_url': 'http://www.vetstreet.com/cats/bengal', 'vcahospitals_url': 'https://vcahospitals.com/know-your-pet/cat-breeds/bengal', 'temperament': 'Alert, Agile, Energetic, Demanding, Intelligent', 'origin': 'United States', 'country_codes': 'US', 'country_code': 'US', 'description': \"Bengals are a lot of fun to live with, but they're definitely not the cat for everyone, or for first-time cat owners. Extremely intelligent, curious and active, they demand a lot of interaction and woe betide the owner who doesn't provide it.\", 'life_span': '12 - 15', 'indoor': 0, 'lap': 0, 'adaptability': 5, 'affection_level': 5, 'child_friendly': 4, 'cat_friendly': 4, 'dog_friendly': 5, 'energy_level': 5, 'grooming': 1, 'health_issues': 3, 'intelligence': 5, 'shedding_level': 3, 'social_needs': 5, 'stranger_friendly': 3, 'vocalisation': 5, 'bidability': 3, 'experimental': 0, 'hairless': 0, 'natural': 0, 'rare': 0, 'rex': 0, 'suppressed_tail': 0, 'short_legs': 0, 'wikipedia_url': 'https://en.wikipedia.org/wiki/Bengal_(cat)', 'hypoallergenic': 1, 'reference_image_id': 'O3btzLlsO'}], 'id': 'H_UWbOfra', 'url': 'https://cdn2.thecatapi.com/images/H_UWbOfra.jpg', 'width': 1200, 'height': 1200}]\n"
     ]
    }
   ],
   "source": [
    "import requests\n",
    "from os import getenv\n",
    "\n",
    "\"ad829b5d-b0eb-4555-af99-2d6bb0fcdcb1\"\n",
    "\n",
    "BASE_URI = \"https://api.thecatapi.com/v1\"\n",
    "API_KEY = getenv(\"API_KEY\")\n",
    "\n",
    "headers = {\n",
    "    \"x-api-key\": API_KEY\n",
    "    }\n",
    "params = {\n",
    "    \n",
    "}\n",
    "\n",
    "\n",
    "response = requests.get(\"https://api.thecatapi.com/v1/images/search?breed_ids=beng\")\n",
    "json = response.json()\n",
    "\n",
    "print(json)\n",
    "\n",
    "# print(description)"
   ]
  },
  {
   "cell_type": "code",
   "execution_count": null,
   "metadata": {},
   "outputs": [],
   "source": []
  }
 ],
 "metadata": {
  "interpreter": {
   "hash": "26de051ba29f2982a8de78e945f0abaf191376122a1563185a90213a26c5da77"
  },
  "kernelspec": {
   "display_name": "Python 3.10.0 64-bit",
   "language": "python",
   "name": "python3"
  },
  "language_info": {
   "name": "python",
   "version": "3.10.0"
  },
  "orig_nbformat": 4
 },
 "nbformat": 4,
 "nbformat_minor": 2
}
