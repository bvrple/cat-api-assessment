{
 "cells": [
  {
   "cell_type": "code",
   "execution_count": 30,
   "metadata": {},
   "outputs": [
    {
     "name": "stdout",
     "output_type": "stream",
     "text": [
      "https://cdn2.thecatapi.com/images/d6f.jpg\n"
     ]
    }
   ],
   "source": [
    "import requests \n",
    "import json\n",
    "from random import randrange\n",
    "from os import getenv\n",
    "\n",
    "\n",
    "API_KEY = getenv(\"API_KEY\")\n",
    "BASE_URI = \"https://api.thecatapi.com/v1\"\n",
    "HEADERS = {\"x-api-key\": \"ad829b5d-b0eb-4555-af99-2d6bb0fcdcb1\"}\n",
    "\n",
    "def make_request(endpoint: str='/'):\n",
    "    \n",
    "    # GET request for playlist\n",
    "    response = requests.get(\n",
    "        f'{BASE_URI}{endpoint}',\n",
    "        HEADERS,\n",
    "    )\n",
    "    return response\n",
    "\n",
    "\n",
    "json_data = make_request('/breeds').json()\n",
    "breed_list = []\n",
    "for breed in json_data:\n",
    "        breed_list.append(\n",
    "            {\n",
    "                'id': breed['id'], \n",
    "                'name': breed['name'],\n",
    "                'origin': breed['origin'], \n",
    "                'temperament': breed['temperament'], \n",
    "                'adaptability': breed['adaptability'], \n",
    "                'affection_level': breed['affection_level'],\n",
    "                'energy_level': breed['energy_level'] ,\n",
    "                'intelligence': breed['intelligence'],\n",
    "                'friendliness': round(sum([breed['child_friendly'], breed['dog_friendly'], breed['stranger_friendly']])/3),\n",
    "                'description': breed['description']\n",
    "            }\n",
    "        )\n",
    "\n",
    "with open('data.json', 'w') as f:\n",
    "    json.dump(breed_list, f, indent = 4)\n",
    "\n",
    "random_id = breed_list[randrange(len(breed_list))]['id']\n",
    "img = make_request(f\"/images/search?{random_id}\").json()[0]['url']\n",
    "print(img)\n",
    "\n",
    "\n",
    "    "
   ]
  },
  {
   "cell_type": "code",
   "execution_count": null,
   "metadata": {},
   "outputs": [],
   "source": []
  }
 ],
 "metadata": {
  "interpreter": {
   "hash": "26de051ba29f2982a8de78e945f0abaf191376122a1563185a90213a26c5da77"
  },
  "kernelspec": {
   "display_name": "Python 3.10.0 64-bit",
   "language": "python",
   "name": "python3"
  },
  "language_info": {
   "codemirror_mode": {
    "name": "ipython",
    "version": 3
   },
   "file_extension": ".py",
   "mimetype": "text/x-python",
   "name": "python",
   "nbconvert_exporter": "python",
   "pygments_lexer": "ipython3",
   "version": "3.10.0"
  },
  "orig_nbformat": 4
 },
 "nbformat": 4,
 "nbformat_minor": 2
}
